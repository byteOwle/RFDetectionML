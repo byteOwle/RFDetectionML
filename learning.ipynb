{
 "cells": [
  {
   "cell_type": "code",
   "execution_count": 11,
   "metadata": {},
   "outputs": [],
   "source": [
    "%matplotlib inline \n",
    "import matplotlib.pyplot as plt\n",
    "\n",
    "import os\n",
    "os.environ[\"KERAS_BACKEND\"] = \"theano\"\n",
    "os.environ[\"THEANO_FLAGS\"] = \"device=cuda,floatX=float32\"\n",
    "import pickle\n",
    "import tensorflow as tf\n",
    "import numpy as np\n",
    "from tensorflow.keras.models import Sequential\n",
    "from tensorflow.keras.layers import Flatten, Dense, Conv2D,Reshape,Input\n",
    "from tensorflow.keras.utils import normalize\n"
   ]
  },
  {
   "cell_type": "code",
   "execution_count": 2,
   "metadata": {},
   "outputs": [],
   "source": [
    "# 28x28 images of hand-written digits 0-9\n",
    "mnist = tf.keras.datasets.mnist \n",
    "\n",
    "image = mnist.load_data()\n",
    "filename = 'numbers_images.dat'\n",
    "\n",
    "fd = open(filename,'wb')\n",
    "pickle.dump( image, fd )\n",
    "fd.close()\n"
   ]
  },
  {
   "cell_type": "code",
   "execution_count": 3,
   "metadata": {},
   "outputs": [],
   "source": [
    "image_in = open(filename, \"rb\")\n",
    "(x_train, y_train), (x_test, y_test) = mnist.load_data()\n",
    "\n",
    "x_train = normalize(x_train, axis=1)\n",
    "x_test = normalize(x_test, axis=1)"
   ]
  },
  {
   "cell_type": "code",
   "execution_count": 4,
   "metadata": {},
   "outputs": [
    {
     "name": "stdout",
     "output_type": "stream",
     "text": [
      "Model: \"sequential\"\n",
      "_________________________________________________________________\n",
      "Layer (type)                 Output Shape              Param #   \n",
      "=================================================================\n",
      "flatten (Flatten)            (None, 784)               0         \n",
      "_________________________________________________________________\n",
      "dense (Dense)                (None, 10)                7850      \n",
      "=================================================================\n",
      "Total params: 7,850\n",
      "Trainable params: 7,850\n",
      "Non-trainable params: 0\n",
      "_________________________________________________________________\n"
     ]
    }
   ],
   "source": [
    "shpe = x_train.shape[1:]\n",
    "\n",
    "model = Sequential()\n",
    "# model.add(Reshape(shpe+[1], input_shape=shpe))\n",
    "# model.add( Conv2D(256, (2,2)) ) \n",
    "model.add(Input(shpe))    # initial layer\n",
    "model.add(Flatten())\n",
    "# model.add(Dense(128, activation=tf.nn.relu))    # initial layer\n",
    "# model.add(Dense(128, activation=tf.nn.relu))    # middle layer\n",
    "model.add(Dense(10, activation=tf.nn.softmax))  # output layer\n",
    "\n",
    "model.compile(optimizer='adam', loss='sparse_categorical_crossentropy',\n",
    "              metrics=['accuracy'])\n",
    "\n",
    "model.summary()"
   ]
  },
  {
   "cell_type": "code",
   "execution_count": 5,
   "metadata": {},
   "outputs": [
    {
     "name": "stdout",
     "output_type": "stream",
     "text": [
      "Epoch 1/10\n",
      "1500/1500 [==============================] - 6s 3ms/step - loss: 0.6646 - accuracy: 0.8476 - val_loss: 0.3797 - val_accuracy: 0.8992\n",
      "Epoch 2/10\n",
      "1500/1500 [==============================] - 5s 3ms/step - loss: 0.3642 - accuracy: 0.8990 - val_loss: 0.3232 - val_accuracy: 0.9111\n",
      "Epoch 3/10\n",
      "1500/1500 [==============================] - 4s 3ms/step - loss: 0.3231 - accuracy: 0.9094 - val_loss: 0.3036 - val_accuracy: 0.9153\n",
      "Epoch 4/10\n",
      "1500/1500 [==============================] - 4s 3ms/step - loss: 0.3034 - accuracy: 0.9145 - val_loss: 0.2939 - val_accuracy: 0.9173\n",
      "Epoch 5/10\n",
      "1500/1500 [==============================] - 4s 3ms/step - loss: 0.2915 - accuracy: 0.9171 - val_loss: 0.2867 - val_accuracy: 0.9189\n",
      "Epoch 6/10\n",
      "1500/1500 [==============================] - 4s 3ms/step - loss: 0.2834 - accuracy: 0.9199 - val_loss: 0.2820 - val_accuracy: 0.9208\n",
      "Epoch 7/10\n",
      "1500/1500 [==============================] - 4s 3ms/step - loss: 0.2773 - accuracy: 0.9214 - val_loss: 0.2802 - val_accuracy: 0.9206\n",
      "Epoch 8/10\n",
      "1500/1500 [==============================] - 5s 3ms/step - loss: 0.2721 - accuracy: 0.9229 - val_loss: 0.2791 - val_accuracy: 0.9215\n",
      "Epoch 9/10\n",
      "1500/1500 [==============================] - 4s 3ms/step - loss: 0.2683 - accuracy: 0.9238 - val_loss: 0.2756 - val_accuracy: 0.9238\n",
      "Epoch 10/10\n",
      "1500/1500 [==============================] - 4s 3ms/step - loss: 0.2648 - accuracy: 0.9243 - val_loss: 0.2759 - val_accuracy: 0.9229\n"
     ]
    },
    {
     "data": {
      "text/plain": [
       "<keras.callbacks.History at 0x1f7b6ea8ac8>"
      ]
     },
     "execution_count": 5,
     "metadata": {},
     "output_type": "execute_result"
    }
   ],
   "source": [
    "model.fit(x_train, y_train, epochs=10, validation_split=0.2)"
   ]
  },
  {
   "cell_type": "code",
   "execution_count": 6,
   "metadata": {},
   "outputs": [
    {
     "name": "stdout",
     "output_type": "stream",
     "text": [
      "313/313 [==============================] - 1s 3ms/step - loss: 0.2776 - accuracy: 0.9218\n",
      "0.2775522470474243 0.9218000173568726\n"
     ]
    }
   ],
   "source": [
    "val_loss, val_acc = model.evaluate(x_test, y_test)\n",
    "print(val_loss, val_acc)"
   ]
  },
  {
   "cell_type": "code",
   "execution_count": 50,
   "metadata": {},
   "outputs": [],
   "source": [
    "import cv2\n",
    "\n",
    "def prepare(path):\n",
    "    IMG_SIZE = 28\n",
    "    img_array = cv2.imread(path, cv2.IMREAD_GRAYSCALE)\n",
    "    new_array = cv2.resize(img_array, (IMG_SIZE, IMG_SIZE))\n",
    "    f_img = new_array.reshape(1, IMG_SIZE, IMG_SIZE)\n",
    "    return f_img"
   ]
  },
  {
   "cell_type": "code",
   "execution_count": 54,
   "metadata": {},
   "outputs": [],
   "source": [
    "# Trying to import outside sources and use model for predictions\n",
    "# currently only works for sources from current data\n",
    "number = 'images/number_7.png'\n",
    "\n",
    "# print(x_test[0:1])\n",
    "# print(prepare(number))\n",
    "\n",
    "probs = model.predict(x_test[0:1])\n",
    "preds = np.argmax(probs, axis=1)\n",
    "# print(probs)"
   ]
  },
  {
   "cell_type": "code",
   "execution_count": 55,
   "metadata": {},
   "outputs": [
    {
     "name": "stdout",
     "output_type": "stream",
     "text": [
      "[7.3533539e-07 7.4869666e-11 5.2524265e-06 4.3860446e-03 5.3657558e-08\n",
      " 3.2702446e-06 3.5530561e-11 9.9541098e-01 5.0996755e-06 1.8858278e-04]  =>  7\n"
     ]
    },
    {
     "data": {
      "image/png": "[encoded data removed]",
      "text/plain": [
       "<Figure size 432x288 with 1 Axes>"
      ]
     },
     "metadata": {
      "needs_background": "light"
     },
     "output_type": "display_data"
    }
   ],
   "source": [
    "print(probs[0], \" => \", preds[0])\n",
    "plt.imshow(x_test[0], cmap=plt.cm.binary)\n",
    "plt.show()"
   ]
  }
 ],
 "metadata": {
  "kernelspec": {
   "display_name": "mlepy36",
   "language": "python",
   "name": "python3"
  },
  "language_info": {
   "codemirror_mode": {
    "name": "ipython",
    "version": 3
   },
   "file_extension": ".py",
   "mimetype": "text/x-python",
   "name": "python",
   "nbconvert_exporter": "python",
   "pygments_lexer": "ipython3",
   "version": "3.6.13"
  },
  "orig_nbformat": 4
 },
 "nbformat": 4,
 "nbformat_minor": 2
}
